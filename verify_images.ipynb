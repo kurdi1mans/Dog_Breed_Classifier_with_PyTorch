{
 "cells": [
  {
   "cell_type": "code",
   "execution_count": 1,
   "metadata": {},
   "outputs": [],
   "source": [
    "from os import listdir\n",
    "from PIL import Image"
   ]
  },
  {
   "cell_type": "code",
   "execution_count": 2,
   "metadata": {},
   "outputs": [],
   "source": [
    "all_files = []"
   ]
  },
  {
   "cell_type": "code",
   "execution_count": 3,
   "metadata": {},
   "outputs": [],
   "source": [
    "root = './dogImages'"
   ]
  },
  {
   "cell_type": "code",
   "execution_count": 4,
   "metadata": {},
   "outputs": [],
   "source": [
    "count = 0"
   ]
  },
  {
   "cell_type": "code",
   "execution_count": 11,
   "metadata": {},
   "outputs": [
    {
     "name": "stdout",
     "output_type": "stream",
     "text": [
      "Bad file: ./dogImages/train/98/Leonberger_06571.jpg\n"
     ]
    }
   ],
   "source": [
    "for main_folder in listdir(root):\n",
    "    for sub_folder in listdir(root+'/'+main_folder):\n",
    "        for file in listdir(root+'/'+main_folder+'/'+sub_folder):\n",
    "            count+=1\n",
    "            path = root+'/'+main_folder+'/'+sub_folder+'/'+file\n",
    "            try:\n",
    "                im = Image.open(path)\n",
    "                im.verify() #I perform also verify, don't know if he sees other types o defects\n",
    "                im.close() #reload is necessary in my case\n",
    "                im = Image.open(path) \n",
    "                im.transpose(Image.FLIP_LEFT_RIGHT)\n",
    "                im.close()\n",
    "            except (IOError, SyntaxError) as e:\n",
    "                print('Bad file:', path) # print out the names of corrupt files\n"
   ]
  },
  {
   "cell_type": "code",
   "execution_count": 12,
   "metadata": {},
   "outputs": [
    {
     "name": "stdout",
     "output_type": "stream",
     "text": [
      "16719\n"
     ]
    }
   ],
   "source": [
    "print(count)"
   ]
  },
  {
   "cell_type": "code",
   "execution_count": null,
   "metadata": {},
   "outputs": [],
   "source": []
  }
 ],
 "metadata": {
  "kernelspec": {
   "display_name": "Python 3",
   "language": "python",
   "name": "python3"
  },
  "language_info": {
   "codemirror_mode": {
    "name": "ipython",
    "version": 3
   },
   "file_extension": ".py",
   "mimetype": "text/x-python",
   "name": "python",
   "nbconvert_exporter": "python",
   "pygments_lexer": "ipython3",
   "version": "3.7.3"
  }
 },
 "nbformat": 4,
 "nbformat_minor": 2
}
